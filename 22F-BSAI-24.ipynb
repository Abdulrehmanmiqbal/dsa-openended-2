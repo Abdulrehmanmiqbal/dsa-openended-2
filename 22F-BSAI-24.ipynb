def matchPattern(p: str, t: str) -> bool:
    
    elements = t.split()

    
    if len(p) != len(elements):
        return False
    
    
    forward_map = {}
    reverse_map = {}


    for char, word in zip(p, elements):
        
        if char in forward_map:
            if forward_map[char] != word:  
                return False
        else:
            forward_map[char] = word  

        
        if word in reverse_map:
            if reverse_map[word] != char: 
                return False
        else:
            reverse_map[word] = char  

    
    return True

# Test 
print(matchPattern("abba", "cow cat cat cow"))  
print(matchPattern("abba", "cow cat cat shark"))  
print(matchPattern("aaaa", "cow cat cat cow"))  


